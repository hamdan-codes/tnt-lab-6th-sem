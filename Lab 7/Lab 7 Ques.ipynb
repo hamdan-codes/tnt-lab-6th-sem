{
 "cells": [
  {
   "cell_type": "markdown",
   "metadata": {},
   "source": [
    "# 1905387 Chaudhary Hamdan\n",
    "### Lab 7"
   ]
  },
  {
   "cell_type": "markdown",
   "metadata": {},
   "source": [
    "# 1"
   ]
  },
  {
   "cell_type": "code",
   "execution_count": 25,
   "metadata": {},
   "outputs": [
    {
     "name": "stdout",
     "output_type": "stream",
     "text": [
      "1, 2, 3, \n",
      "1, 2, 3, \n",
      "1 : a, 2 : b, 3 : c, \n",
      "1, 2, 3, \n"
     ]
    }
   ],
   "source": [
    "li = [1, 2, 3]\n",
    "tu = (1, 2, 3)\n",
    "di = {1: 'a', 2: 'b', 3: 'c'}\n",
    "se = {1, 2, 3, 1, 3}\n",
    "\n",
    "for ele in li:\n",
    "    print(ele, end=', ')\n",
    "print()\n",
    "\n",
    "for ele in tu:\n",
    "    print(ele, end=', ')\n",
    "print()\n",
    "for key in di:\n",
    "    print(key, ':', di[key], end=', ')\n",
    "print()\n",
    "for ele in se:\n",
    "    print(ele, end=', ')\n",
    "print()\n"
   ]
  },
  {
   "cell_type": "markdown",
   "metadata": {},
   "source": [
    "# 2"
   ]
  },
  {
   "cell_type": "code",
   "execution_count": 9,
   "metadata": {},
   "outputs": [
    {
     "name": "stdout",
     "output_type": "stream",
     "text": [
      "2\n",
      "\n",
      "int32\n",
      "1\n",
      "(3,)\n"
     ]
    }
   ],
   "source": [
    "li = [1, 2, 3]\n",
    "pos = 2\n",
    "print(li[pos-1])\n",
    "print()\n",
    "\n",
    "import numpy as np\n",
    "nli = np.array(li)\n",
    "print(nli.dtype)\n",
    "print(nli.ndim)\n",
    "print(nli.shape)"
   ]
  },
  {
   "cell_type": "markdown",
   "metadata": {},
   "source": [
    "# 3"
   ]
  },
  {
   "cell_type": "code",
   "execution_count": 13,
   "metadata": {},
   "outputs": [
    {
     "name": "stdout",
     "output_type": "stream",
     "text": [
      "[1, 11, 21, 31, 41]\n"
     ]
    }
   ],
   "source": [
    "RangeVar = list(range(1, 50+1, 10))\n",
    "print(RangeVar)"
   ]
  },
  {
   "cell_type": "markdown",
   "metadata": {},
   "source": [
    "# 4"
   ]
  },
  {
   "cell_type": "code",
   "execution_count": 12,
   "metadata": {},
   "outputs": [
    {
     "name": "stdout",
     "output_type": "stream",
     "text": [
      "n\n",
      "9\n"
     ]
    }
   ],
   "source": [
    "#    0123456789\n",
    "s = 'Techniquelab'\n",
    "pos = 5\n",
    "print(s[pos-1])\n",
    "print(s.index('l'))"
   ]
  },
  {
   "cell_type": "markdown",
   "metadata": {},
   "source": [
    "# 5"
   ]
  },
  {
   "cell_type": "code",
   "execution_count": 16,
   "metadata": {},
   "outputs": [
    {
     "name": "stdout",
     "output_type": "stream",
     "text": [
      "True\n",
      "31\n"
     ]
    }
   ],
   "source": [
    "RangeVar = list(range(1, 50+1, 10))\n",
    "print(11 in RangeVar)\n",
    "idx = 3\n",
    "print(RangeVar[idx])"
   ]
  },
  {
   "cell_type": "markdown",
   "metadata": {},
   "source": [
    "# 6"
   ]
  },
  {
   "cell_type": "code",
   "execution_count": 23,
   "metadata": {},
   "outputs": [
    {
     "name": "stdout",
     "output_type": "stream",
     "text": [
      "[100, 'Alice', 12, 'Programmer']\n",
      "[100, 'Alice', 12, 'Programmer', 'Python']\n"
     ]
    }
   ],
   "source": [
    "li = [100, 'Alice', 12, 'Programmer']\n",
    "print(li)\n",
    "li.append('Python')\n",
    "print(li)"
   ]
  },
  {
   "cell_type": "markdown",
   "metadata": {},
   "source": [
    "# 7"
   ]
  },
  {
   "cell_type": "code",
   "execution_count": 21,
   "metadata": {},
   "outputs": [
    {
     "name": "stdout",
     "output_type": "stream",
     "text": [
      "(100, 'Alice', 12, 'Programmer')\n",
      "(100, 'Alice', 12, 'Programmer', 'Python', 'ML')\n"
     ]
    }
   ],
   "source": [
    "tu = (100, 'Alice', 12, 'Programmer')\n",
    "print(tu)\n",
    "tu = tuple(list(tu) + ['Python', 'ML'])\n",
    "print(tu)"
   ]
  },
  {
   "cell_type": "markdown",
   "metadata": {},
   "source": [
    "# 8"
   ]
  },
  {
   "cell_type": "code",
   "execution_count": 24,
   "metadata": {},
   "outputs": [
    {
     "name": "stdout",
     "output_type": "stream",
     "text": [
      "100, Alice, 12, \n",
      "100, Alice, 12, \n",
      "100, Alice, 12, \n"
     ]
    }
   ],
   "source": [
    "tu = (100, 'Alice', 12, 'Programmer')\n",
    "for i in range(3):\n",
    "    for j in range(3):\n",
    "        print(tu[j], end=', ')\n",
    "    print()\n"
   ]
  },
  {
   "cell_type": "code",
   "execution_count": null,
   "metadata": {},
   "outputs": [],
   "source": []
  }
 ],
 "metadata": {
  "kernelspec": {
   "display_name": "Python 3",
   "language": "python",
   "name": "python3"
  },
  "language_info": {
   "codemirror_mode": {
    "name": "ipython",
    "version": 3
   },
   "file_extension": ".py",
   "mimetype": "text/x-python",
   "name": "python",
   "nbconvert_exporter": "python",
   "pygments_lexer": "ipython3",
   "version": "3.6.5"
  }
 },
 "nbformat": 4,
 "nbformat_minor": 2
}
