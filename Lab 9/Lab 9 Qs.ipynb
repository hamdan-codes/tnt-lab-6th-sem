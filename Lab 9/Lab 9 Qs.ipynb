{
 "cells": [
  {
   "cell_type": "markdown",
   "metadata": {},
   "source": [
    "# 1905387 Chaudhary Hamdan"
   ]
  },
  {
   "cell_type": "code",
   "execution_count": 1,
   "metadata": {},
   "outputs": [],
   "source": [
    "import pandas as pd\n",
    "import numpy as np\n",
    "import matplotlib.pyplot as plt\n",
    "from sklearn.model_selection import train_test_split\n",
    "from sklearn import preprocessing\n",
    "import seaborn as sns\n",
    "\n",
    "from sklearn.linear_model import LogisticRegression\n",
    "from sklearn.neighbors import KNeighborsClassifier\n",
    "from sklearn.tree import DecisionTreeClassifier\n",
    "from sklearn.naive_bayes import GaussianNB\n",
    "from sklearn.svm import SVC\n",
    "from sklearn.ensemble import GradientBoostingClassifier\n",
    "from sklearn.ensemble import AdaBoostClassifier\n",
    "from sklearn.ensemble import RandomForestClassifier\n",
    "\n",
    "from sklearn.metrics import confusion_matrix\n",
    "from sklearn.metrics import accuracy_score\n",
    "from sklearn.metrics import recall_score\n",
    "from sklearn.metrics import precision_score\n",
    "from sklearn.metrics import f1_score"
   ]
  },
  {
   "cell_type": "code",
   "execution_count": 2,
   "metadata": {},
   "outputs": [],
   "source": [
    "import warnings\n",
    "warnings.filterwarnings('ignore')"
   ]
  },
  {
   "cell_type": "code",
   "execution_count": 3,
   "metadata": {},
   "outputs": [],
   "source": [
    "df = pd.read_csv('Social_Network_Ads.csv')"
   ]
  },
  {
   "cell_type": "code",
   "execution_count": 4,
   "metadata": {},
   "outputs": [
    {
     "data": {
      "text/html": [
       "<div>\n",
       "<style scoped>\n",
       "    .dataframe tbody tr th:only-of-type {\n",
       "        vertical-align: middle;\n",
       "    }\n",
       "\n",
       "    .dataframe tbody tr th {\n",
       "        vertical-align: top;\n",
       "    }\n",
       "\n",
       "    .dataframe thead th {\n",
       "        text-align: right;\n",
       "    }\n",
       "</style>\n",
       "<table border=\"1\" class=\"dataframe\">\n",
       "  <thead>\n",
       "    <tr style=\"text-align: right;\">\n",
       "      <th></th>\n",
       "      <th>Age</th>\n",
       "      <th>EstimatedSalary</th>\n",
       "      <th>Purchased</th>\n",
       "    </tr>\n",
       "  </thead>\n",
       "  <tbody>\n",
       "    <tr>\n",
       "      <th>0</th>\n",
       "      <td>19</td>\n",
       "      <td>19000</td>\n",
       "      <td>0</td>\n",
       "    </tr>\n",
       "    <tr>\n",
       "      <th>1</th>\n",
       "      <td>35</td>\n",
       "      <td>20000</td>\n",
       "      <td>0</td>\n",
       "    </tr>\n",
       "    <tr>\n",
       "      <th>2</th>\n",
       "      <td>26</td>\n",
       "      <td>43000</td>\n",
       "      <td>0</td>\n",
       "    </tr>\n",
       "    <tr>\n",
       "      <th>3</th>\n",
       "      <td>27</td>\n",
       "      <td>57000</td>\n",
       "      <td>0</td>\n",
       "    </tr>\n",
       "    <tr>\n",
       "      <th>4</th>\n",
       "      <td>19</td>\n",
       "      <td>76000</td>\n",
       "      <td>0</td>\n",
       "    </tr>\n",
       "  </tbody>\n",
       "</table>\n",
       "</div>"
      ],
      "text/plain": [
       "   Age  EstimatedSalary  Purchased\n",
       "0   19            19000          0\n",
       "1   35            20000          0\n",
       "2   26            43000          0\n",
       "3   27            57000          0\n",
       "4   19            76000          0"
      ]
     },
     "execution_count": 4,
     "metadata": {},
     "output_type": "execute_result"
    }
   ],
   "source": [
    "df.head()"
   ]
  },
  {
   "cell_type": "code",
   "execution_count": 5,
   "metadata": {},
   "outputs": [
    {
     "name": "stdout",
     "output_type": "stream",
     "text": [
      "<class 'pandas.core.frame.DataFrame'>\n",
      "RangeIndex: 400 entries, 0 to 399\n",
      "Data columns (total 3 columns):\n",
      " #   Column           Non-Null Count  Dtype\n",
      "---  ------           --------------  -----\n",
      " 0   Age              400 non-null    int64\n",
      " 1   EstimatedSalary  400 non-null    int64\n",
      " 2   Purchased        400 non-null    int64\n",
      "dtypes: int64(3)\n",
      "memory usage: 9.5 KB\n"
     ]
    }
   ],
   "source": [
    "df.info()"
   ]
  },
  {
   "cell_type": "code",
   "execution_count": 6,
   "metadata": {},
   "outputs": [
    {
     "data": {
      "text/html": [
       "<style  type=\"text/css\" >\n",
       "    #T_1e81415c_aff2_11ec_ae84_84fdd1704ff3row0_col0 {\n",
       "            background-color:  #b40426;\n",
       "            color:  #f1f1f1;\n",
       "        }    #T_1e81415c_aff2_11ec_ae84_84fdd1704ff3row0_col1 {\n",
       "            background-color:  #3b4cc0;\n",
       "            color:  #f1f1f1;\n",
       "        }    #T_1e81415c_aff2_11ec_ae84_84fdd1704ff3row0_col2 {\n",
       "            background-color:  #c3d5f4;\n",
       "            color:  #000000;\n",
       "        }    #T_1e81415c_aff2_11ec_ae84_84fdd1704ff3row1_col0 {\n",
       "            background-color:  #3b4cc0;\n",
       "            color:  #f1f1f1;\n",
       "        }    #T_1e81415c_aff2_11ec_ae84_84fdd1704ff3row1_col1 {\n",
       "            background-color:  #b40426;\n",
       "            color:  #f1f1f1;\n",
       "        }    #T_1e81415c_aff2_11ec_ae84_84fdd1704ff3row1_col2 {\n",
       "            background-color:  #3b4cc0;\n",
       "            color:  #f1f1f1;\n",
       "        }    #T_1e81415c_aff2_11ec_ae84_84fdd1704ff3row2_col0 {\n",
       "            background-color:  #ead5c9;\n",
       "            color:  #000000;\n",
       "        }    #T_1e81415c_aff2_11ec_ae84_84fdd1704ff3row2_col1 {\n",
       "            background-color:  #8badfd;\n",
       "            color:  #000000;\n",
       "        }    #T_1e81415c_aff2_11ec_ae84_84fdd1704ff3row2_col2 {\n",
       "            background-color:  #b40426;\n",
       "            color:  #f1f1f1;\n",
       "        }</style><table id=\"T_1e81415c_aff2_11ec_ae84_84fdd1704ff3\" ><thead>    <tr>        <th class=\"blank level0\" ></th>        <th class=\"col_heading level0 col0\" >Age</th>        <th class=\"col_heading level0 col1\" >EstimatedSalary</th>        <th class=\"col_heading level0 col2\" >Purchased</th>    </tr></thead><tbody>\n",
       "                <tr>\n",
       "                        <th id=\"T_1e81415c_aff2_11ec_ae84_84fdd1704ff3level0_row0\" class=\"row_heading level0 row0\" >Age</th>\n",
       "                        <td id=\"T_1e81415c_aff2_11ec_ae84_84fdd1704ff3row0_col0\" class=\"data row0 col0\" >1.000000</td>\n",
       "                        <td id=\"T_1e81415c_aff2_11ec_ae84_84fdd1704ff3row0_col1\" class=\"data row0 col1\" >0.155238</td>\n",
       "                        <td id=\"T_1e81415c_aff2_11ec_ae84_84fdd1704ff3row0_col2\" class=\"data row0 col2\" >0.622454</td>\n",
       "            </tr>\n",
       "            <tr>\n",
       "                        <th id=\"T_1e81415c_aff2_11ec_ae84_84fdd1704ff3level0_row1\" class=\"row_heading level0 row1\" >EstimatedSalary</th>\n",
       "                        <td id=\"T_1e81415c_aff2_11ec_ae84_84fdd1704ff3row1_col0\" class=\"data row1 col0\" >0.155238</td>\n",
       "                        <td id=\"T_1e81415c_aff2_11ec_ae84_84fdd1704ff3row1_col1\" class=\"data row1 col1\" >1.000000</td>\n",
       "                        <td id=\"T_1e81415c_aff2_11ec_ae84_84fdd1704ff3row1_col2\" class=\"data row1 col2\" >0.362083</td>\n",
       "            </tr>\n",
       "            <tr>\n",
       "                        <th id=\"T_1e81415c_aff2_11ec_ae84_84fdd1704ff3level0_row2\" class=\"row_heading level0 row2\" >Purchased</th>\n",
       "                        <td id=\"T_1e81415c_aff2_11ec_ae84_84fdd1704ff3row2_col0\" class=\"data row2 col0\" >0.622454</td>\n",
       "                        <td id=\"T_1e81415c_aff2_11ec_ae84_84fdd1704ff3row2_col1\" class=\"data row2 col1\" >0.362083</td>\n",
       "                        <td id=\"T_1e81415c_aff2_11ec_ae84_84fdd1704ff3row2_col2\" class=\"data row2 col2\" >1.000000</td>\n",
       "            </tr>\n",
       "    </tbody></table>"
      ],
      "text/plain": [
       "<pandas.io.formats.style.Styler at 0x270c05b2048>"
      ]
     },
     "execution_count": 6,
     "metadata": {},
     "output_type": "execute_result"
    }
   ],
   "source": [
    "corr = df.corr()\n",
    "corr.style.background_gradient(cmap='coolwarm')"
   ]
  },
  {
   "cell_type": "code",
   "execution_count": 7,
   "metadata": {},
   "outputs": [
    {
     "data": {
      "text/plain": [
       "((320, 2), (320,), (80, 2), (80,))"
      ]
     },
     "execution_count": 7,
     "metadata": {},
     "output_type": "execute_result"
    }
   ],
   "source": [
    "x_train, x_test, y_train, y_test = train_test_split(df.drop(columns = ['Purchased']), df['Purchased'], test_size = 0.2)\n",
    "x_train.shape, y_train.shape, x_test.shape, y_test.shape"
   ]
  },
  {
   "cell_type": "code",
   "execution_count": 8,
   "metadata": {},
   "outputs": [],
   "source": [
    "algos = []\n",
    "accuracy = []\n",
    "recall = []\n",
    "precision = []\n",
    "f1Score = []\n",
    "specificity = []"
   ]
  },
  {
   "cell_type": "code",
   "execution_count": 9,
   "metadata": {},
   "outputs": [
    {
     "name": "stdout",
     "output_type": "stream",
     "text": [
      "Logistic Regression\n",
      "[[52  0]\n",
      " [28  0]] \n",
      "\n",
      "\n",
      "Accuracy: 65.0\n",
      "Recall: 0.0\n",
      "Precision: 0.0\n",
      "F score: 0.0\n",
      "Specificity: 1.0\n"
     ]
    }
   ],
   "source": [
    "algo = \"Logistic Regression\"\n",
    "model = LogisticRegression()\n",
    "model.fit(x_train, y_train)\n",
    "y_pred = model.predict(x_test)\n",
    "print(algo)\n",
    "print(confusion_matrix(y_test, y_pred), '\\n\\n')\n",
    "acc = accuracy_score(y_test, y_pred) * 100\n",
    "print('Accuracy:', acc)\n",
    "rec = recall_score(y_test, y_pred) * 100\n",
    "print('Recall:', rec)\n",
    "pre = precision_score(y_test, y_pred) * 100\n",
    "print('Precision:', pre)\n",
    "f1s = f1_score(y_test, y_pred) * 100\n",
    "print('F score:', f1s)\n",
    "tn, fp, fn, tp = confusion_matrix(y_test, y_pred).ravel()\n",
    "spc = tn / (tn+fp)\n",
    "print('Specificity:', spc)\n",
    "\n",
    "algos.append(algo)\n",
    "accuracy.append(acc)\n",
    "recall.append(rec)\n",
    "precision.append(pre)\n",
    "f1Score.append(f1s)\n",
    "specificity.append(spc)\n"
   ]
  },
  {
   "cell_type": "code",
   "execution_count": 10,
   "metadata": {},
   "outputs": [
    {
     "name": "stdout",
     "output_type": "stream",
     "text": [
      "K Nearest Neighbour\n",
      "[[45  7]\n",
      " [12 16]] \n",
      "\n",
      "\n",
      "Accuracy: 76.25\n",
      "Recall: 57.14285714285714\n",
      "Precision: 69.56521739130434\n",
      "F score: 62.745098039215684\n",
      "Specificity: 0.8653846153846154\n"
     ]
    }
   ],
   "source": [
    "algo = \"K Nearest Neighbour\"\n",
    "model = KNeighborsClassifier()\n",
    "model.fit(x_train, y_train)\n",
    "y_pred = model.predict(x_test)\n",
    "print(algo)\n",
    "print(confusion_matrix(y_test, y_pred), '\\n\\n')\n",
    "acc = accuracy_score(y_test, y_pred) * 100\n",
    "print('Accuracy:', acc)\n",
    "rec = recall_score(y_test, y_pred) * 100\n",
    "print('Recall:', rec)\n",
    "pre = precision_score(y_test, y_pred) * 100\n",
    "print('Precision:', pre)\n",
    "f1s = f1_score(y_test, y_pred) * 100\n",
    "print('F score:', f1s)\n",
    "tn, fp, fn, tp = confusion_matrix(y_test, y_pred).ravel()\n",
    "spc = tn / (tn+fp)\n",
    "print('Specificity:', spc)\n",
    "\n",
    "algos.append(algo)\n",
    "accuracy.append(acc)\n",
    "recall.append(rec)\n",
    "precision.append(pre)\n",
    "f1Score.append(f1s)\n",
    "specificity.append(spc)\n"
   ]
  },
  {
   "cell_type": "code",
   "execution_count": 11,
   "metadata": {},
   "outputs": [
    {
     "name": "stdout",
     "output_type": "stream",
     "text": [
      "Decision Tree\n",
      "[[46  6]\n",
      " [ 4 24]] \n",
      "\n",
      "\n",
      "Accuracy: 87.5\n",
      "Recall: 85.71428571428571\n",
      "Precision: 80.0\n",
      "F score: 82.75862068965519\n",
      "Specificity: 0.8846153846153846\n"
     ]
    }
   ],
   "source": [
    "algo = \"Decision Tree\"\n",
    "model = DecisionTreeClassifier()\n",
    "model.fit(x_train, y_train)\n",
    "y_pred = model.predict(x_test)\n",
    "print(algo)\n",
    "print(confusion_matrix(y_test, y_pred), '\\n\\n')\n",
    "acc = accuracy_score(y_test, y_pred) * 100\n",
    "print('Accuracy:', acc)\n",
    "rec = recall_score(y_test, y_pred) * 100\n",
    "print('Recall:', rec)\n",
    "pre = precision_score(y_test, y_pred) * 100\n",
    "print('Precision:', pre)\n",
    "f1s = f1_score(y_test, y_pred) * 100\n",
    "print('F score:', f1s)\n",
    "tn, fp, fn, tp = confusion_matrix(y_test, y_pred).ravel()\n",
    "spc = tn / (tn+fp)\n",
    "print('Specificity:', spc)\n",
    "\n",
    "algos.append(algo)\n",
    "accuracy.append(acc)\n",
    "recall.append(rec)\n",
    "precision.append(pre)\n",
    "f1Score.append(f1s)\n",
    "specificity.append(spc)\n"
   ]
  },
  {
   "cell_type": "code",
   "execution_count": 12,
   "metadata": {},
   "outputs": [
    {
     "name": "stdout",
     "output_type": "stream",
     "text": [
      "Naive Bayes\n",
      "[[49  3]\n",
      " [ 5 23]] \n",
      "\n",
      "\n",
      "Accuracy: 90.0\n",
      "Recall: 82.14285714285714\n",
      "Precision: 88.46153846153845\n",
      "F score: 85.18518518518519\n",
      "Specificity: 0.9423076923076923\n"
     ]
    }
   ],
   "source": [
    "algo = \"Naive Bayes\"\n",
    "model = GaussianNB()\n",
    "model.fit(x_train, y_train)\n",
    "y_pred = model.predict(x_test)\n",
    "print(algo)\n",
    "print(confusion_matrix(y_test, y_pred), '\\n\\n')\n",
    "acc = accuracy_score(y_test, y_pred) * 100\n",
    "print('Accuracy:', acc)\n",
    "rec = recall_score(y_test, y_pred) * 100\n",
    "print('Recall:', rec)\n",
    "pre = precision_score(y_test, y_pred) * 100\n",
    "print('Precision:', pre)\n",
    "f1s = f1_score(y_test, y_pred) * 100\n",
    "print('F score:', f1s)\n",
    "tn, fp, fn, tp = confusion_matrix(y_test, y_pred).ravel()\n",
    "spc = tn / (tn+fp)\n",
    "print('Specificity:', spc)\n",
    "\n",
    "algos.append(algo)\n",
    "accuracy.append(acc)\n",
    "recall.append(rec)\n",
    "precision.append(pre)\n",
    "f1Score.append(f1s)\n",
    "specificity.append(spc)\n"
   ]
  },
  {
   "cell_type": "code",
   "execution_count": 13,
   "metadata": {},
   "outputs": [
    {
     "name": "stdout",
     "output_type": "stream",
     "text": [
      "SVM\n",
      "[[51  1]\n",
      " [17 11]] \n",
      "\n",
      "\n",
      "Accuracy: 77.5\n",
      "Recall: 39.285714285714285\n",
      "Precision: 91.66666666666666\n",
      "F score: 55.00000000000001\n",
      "Specificity: 0.9807692307692307\n"
     ]
    }
   ],
   "source": [
    "algo = \"SVM\"\n",
    "model = SVC(kernel='rbf')\n",
    "model.fit(x_train, y_train)\n",
    "y_pred = model.predict(x_test)\n",
    "print(algo)\n",
    "print(confusion_matrix(y_test, y_pred), '\\n\\n')\n",
    "acc = accuracy_score(y_test, y_pred) * 100\n",
    "print('Accuracy:', acc)\n",
    "rec = recall_score(y_test, y_pred) * 100\n",
    "print('Recall:', rec)\n",
    "pre = precision_score(y_test, y_pred) * 100\n",
    "print('Precision:', pre)\n",
    "f1s = f1_score(y_test, y_pred) * 100\n",
    "print('F score:', f1s)\n",
    "tn, fp, fn, tp = confusion_matrix(y_test, y_pred).ravel()\n",
    "spc = tn / (tn+fp)\n",
    "print('Specificity:', spc)\n",
    "\n",
    "algos.append(algo)\n",
    "accuracy.append(acc)\n",
    "recall.append(rec)\n",
    "precision.append(pre)\n",
    "f1Score.append(f1s)\n",
    "specificity.append(spc)\n"
   ]
  },
  {
   "cell_type": "code",
   "execution_count": 14,
   "metadata": {},
   "outputs": [
    {
     "name": "stdout",
     "output_type": "stream",
     "text": [
      "Adaboost\n",
      "[[48  4]\n",
      " [ 2 26]] \n",
      "\n",
      "\n",
      "Accuracy: 92.5\n",
      "Recall: 92.85714285714286\n",
      "Precision: 86.66666666666667\n",
      "F score: 89.65517241379311\n",
      "Specificity: 0.9230769230769231\n"
     ]
    }
   ],
   "source": [
    "algo = \"Adaboost\"\n",
    "model = AdaBoostClassifier()\n",
    "model.fit(x_train, y_train)\n",
    "y_pred = model.predict(x_test)\n",
    "print(algo)\n",
    "print(confusion_matrix(y_test, y_pred), '\\n\\n')\n",
    "acc = accuracy_score(y_test, y_pred) * 100\n",
    "print('Accuracy:', acc)\n",
    "rec = recall_score(y_test, y_pred) * 100\n",
    "print('Recall:', rec)\n",
    "pre = precision_score(y_test, y_pred) * 100\n",
    "print('Precision:', pre)\n",
    "f1s = f1_score(y_test, y_pred) * 100\n",
    "print('F score:', f1s)\n",
    "tn, fp, fn, tp = confusion_matrix(y_test, y_pred).ravel()\n",
    "spc = tn / (tn+fp)\n",
    "print('Specificity:', spc)\n",
    "\n",
    "algos.append(algo)\n",
    "accuracy.append(acc)\n",
    "recall.append(rec)\n",
    "precision.append(pre)\n",
    "f1Score.append(f1s)\n",
    "specificity.append(spc)\n"
   ]
  },
  {
   "cell_type": "code",
   "execution_count": 15,
   "metadata": {},
   "outputs": [
    {
     "name": "stdout",
     "output_type": "stream",
     "text": [
      "GradientBoost\n",
      "[[48  4]\n",
      " [ 1 27]] \n",
      "\n",
      "\n",
      "Accuracy: 93.75\n",
      "Recall: 96.42857142857143\n",
      "Precision: 87.09677419354838\n",
      "F score: 91.52542372881356\n",
      "Specificity: 0.9230769230769231\n"
     ]
    }
   ],
   "source": [
    "algo = \"GradientBoost\"\n",
    "model = GradientBoostingClassifier()\n",
    "model.fit(x_train, y_train)\n",
    "y_pred = model.predict(x_test)\n",
    "print(algo)\n",
    "print(confusion_matrix(y_test, y_pred), '\\n\\n')\n",
    "acc = accuracy_score(y_test, y_pred) * 100\n",
    "print('Accuracy:', acc)\n",
    "rec = recall_score(y_test, y_pred) * 100\n",
    "print('Recall:', rec)\n",
    "pre = precision_score(y_test, y_pred) * 100\n",
    "print('Precision:', pre)\n",
    "f1s = f1_score(y_test, y_pred) * 100\n",
    "print('F score:', f1s)\n",
    "tn, fp, fn, tp = confusion_matrix(y_test, y_pred).ravel()\n",
    "spc = tn / (tn+fp)\n",
    "print('Specificity:', spc)\n",
    "\n",
    "algos.append(algo)\n",
    "accuracy.append(acc)\n",
    "recall.append(rec)\n",
    "precision.append(pre)\n",
    "f1Score.append(f1s)\n",
    "specificity.append(spc)\n"
   ]
  },
  {
   "cell_type": "code",
   "execution_count": 16,
   "metadata": {},
   "outputs": [
    {
     "name": "stdout",
     "output_type": "stream",
     "text": [
      "Random forest\n",
      "[[49  3]\n",
      " [ 1 27]] \n",
      "\n",
      "\n",
      "Accuracy: 95.0\n",
      "Recall: 96.42857142857143\n",
      "Precision: 90.0\n",
      "F score: 93.10344827586206\n",
      "Specificity: 0.9423076923076923\n"
     ]
    }
   ],
   "source": [
    "algo = \"Random forest\"\n",
    "model = RandomForestClassifier()\n",
    "model.fit(x_train, y_train)\n",
    "y_pred = model.predict(x_test)\n",
    "print(algo)\n",
    "print(confusion_matrix(y_test, y_pred), '\\n\\n')\n",
    "acc = accuracy_score(y_test, y_pred) * 100\n",
    "print('Accuracy:', acc)\n",
    "rec = recall_score(y_test, y_pred) * 100\n",
    "print('Recall:', rec)\n",
    "pre = precision_score(y_test, y_pred) * 100\n",
    "print('Precision:', pre)\n",
    "f1s = f1_score(y_test, y_pred) * 100\n",
    "print('F score:', f1s)\n",
    "tn, fp, fn, tp = confusion_matrix(y_test, y_pred).ravel()\n",
    "spc = tn / (tn+fp)\n",
    "print('Specificity:', spc)\n",
    "\n",
    "algos.append(algo)\n",
    "accuracy.append(acc)\n",
    "recall.append(rec)\n",
    "precision.append(pre)\n",
    "f1Score.append(f1s)\n",
    "specificity.append(spc)\n"
   ]
  },
  {
   "cell_type": "code",
   "execution_count": null,
   "metadata": {},
   "outputs": [],
   "source": []
  },
  {
   "cell_type": "code",
   "execution_count": 17,
   "metadata": {},
   "outputs": [
    {
     "name": "stdout",
     "output_type": "stream",
     "text": [
      "Logistic Regression :      65.0 ,   0.0 ,   0.0 ,   0.0\n",
      "K Nearest Neighbour :      76.25 ,   57.14285714285714 ,   69.56521739130434 ,   62.745098039215684\n",
      "Decision Tree :      87.5 ,   85.71428571428571 ,   80.0 ,   82.75862068965519\n",
      "Naive Bayes :      90.0 ,   82.14285714285714 ,   88.46153846153845 ,   85.18518518518519\n",
      "SVM :      77.5 ,   39.285714285714285 ,   91.66666666666666 ,   55.00000000000001\n",
      "Adaboost :      92.5 ,   92.85714285714286 ,   86.66666666666667 ,   89.65517241379311\n",
      "GradientBoost :      93.75 ,   96.42857142857143 ,   87.09677419354838 ,   91.52542372881356\n",
      "Random forest :      95.0 ,   96.42857142857143 ,   90.0 ,   93.10344827586206\n"
     ]
    }
   ],
   "source": [
    "mx = 0\n",
    "for i in range(len(algos)):\n",
    "    print(algos[i], ':     ', accuracy[i],',  ', recall[i],',  ', precision[i],',  ', f1Score[i])\n",
    "    if accuracy[i] > accuracy[mx]:\n",
    "        mx = i"
   ]
  },
  {
   "cell_type": "code",
   "execution_count": 18,
   "metadata": {},
   "outputs": [
    {
     "name": "stdout",
     "output_type": "stream",
     "text": [
      "Maximum Accuracy :  95.0 of Random forest algorithm.\n"
     ]
    }
   ],
   "source": [
    "print('Maximum Accuracy : ', accuracy[i], 'of', algos[i], 'algorithm.')"
   ]
  },
  {
   "cell_type": "code",
   "execution_count": 19,
   "metadata": {},
   "outputs": [
    {
     "data": {
      "image/png": "[encoded data removed]",
      "text/plain": [
       "<Figure size 432x288 with 1 Axes>"
      ]
     },
     "metadata": {},
     "output_type": "display_data"
    }
   ],
   "source": [
    "plt.bar(algos, accuracy)\n",
    "plt.xticks(rotation = 45) \n",
    "plt.show()"
   ]
  },
  {
   "cell_type": "code",
   "execution_count": null,
   "metadata": {},
   "outputs": [],
   "source": []
  },
  {
   "cell_type": "markdown",
   "metadata": {},
   "source": [
    "# Thank you"
   ]
  },
  {
   "cell_type": "code",
   "execution_count": null,
   "metadata": {},
   "outputs": [],
   "source": []
  }
 ],
 "metadata": {
  "kernelspec": {
   "display_name": "Python 3",
   "language": "python",
   "name": "python3"
  },
  "language_info": {
   "codemirror_mode": {
    "name": "ipython",
    "version": 3
   },
   "file_extension": ".py",
   "mimetype": "text/x-python",
   "name": "python",
   "nbconvert_exporter": "python",
   "pygments_lexer": "ipython3",
   "version": "3.6.5"
  }
 },
 "nbformat": 4,
 "nbformat_minor": 2
}
