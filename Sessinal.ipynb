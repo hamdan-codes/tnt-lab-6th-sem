{
 "cells": [
  {
   "cell_type": "markdown",
   "metadata": {},
   "source": [
    "# 1905387 Chaudhary Hamdan"
   ]
  },
  {
   "cell_type": "markdown",
   "metadata": {},
   "source": [
    "# Answer 1"
   ]
  },
  {
   "cell_type": "code",
   "execution_count": 122,
   "metadata": {},
   "outputs": [],
   "source": [
    "import pandas as pd\n",
    "import numpy as np\n",
    "import matplotlib.pyplot as plt\n",
    "from sklearn.model_selection import train_test_split\n",
    "from sklearn import preprocessing\n",
    "import seaborn as sns\n",
    "\n",
    "from sklearn.neighbors import KNeighborsClassifier\n",
    "from sklearn.naive_bayes import GaussianNB\n",
    "from sklearn.svm import SVC\n",
    "from sklearn.ensemble import AdaBoostClassifier\n",
    "\n",
    "from sklearn.metrics import confusion_matrix\n",
    "from sklearn.metrics import accuracy_score\n",
    "from sklearn.metrics import recall_score\n",
    "from sklearn.metrics import precision_score\n",
    "from sklearn.metrics import f1_score\n",
    "from sklearn.metrics import classification_report"
   ]
  },
  {
   "cell_type": "code",
   "execution_count": 123,
   "metadata": {},
   "outputs": [],
   "source": [
    "import warnings\n",
    "warnings.filterwarnings('ignore')"
   ]
  },
  {
   "cell_type": "code",
   "execution_count": 124,
   "metadata": {},
   "outputs": [],
   "source": [
    "df = pd.read_csv('iris-write-from-docker.csv')"
   ]
  },
  {
   "cell_type": "code",
   "execution_count": 125,
   "metadata": {},
   "outputs": [
    {
     "data": {
      "text/html": [
       "<div>\n",
       "<style scoped>\n",
       "    .dataframe tbody tr th:only-of-type {\n",
       "        vertical-align: middle;\n",
       "    }\n",
       "\n",
       "    .dataframe tbody tr th {\n",
       "        vertical-align: top;\n",
       "    }\n",
       "\n",
       "    .dataframe thead th {\n",
       "        text-align: right;\n",
       "    }\n",
       "</style>\n",
       "<table border=\"1\" class=\"dataframe\">\n",
       "  <thead>\n",
       "    <tr style=\"text-align: right;\">\n",
       "      <th></th>\n",
       "      <th>sepal_length</th>\n",
       "      <th>sepal_width</th>\n",
       "      <th>petal_length</th>\n",
       "      <th>petal_width</th>\n",
       "      <th>class</th>\n",
       "    </tr>\n",
       "  </thead>\n",
       "  <tbody>\n",
       "    <tr>\n",
       "      <th>0</th>\n",
       "      <td>5.1</td>\n",
       "      <td>3.5</td>\n",
       "      <td>1.4</td>\n",
       "      <td>0.2</td>\n",
       "      <td>Iris-setosa</td>\n",
       "    </tr>\n",
       "    <tr>\n",
       "      <th>1</th>\n",
       "      <td>4.9</td>\n",
       "      <td>3.0</td>\n",
       "      <td>1.4</td>\n",
       "      <td>0.2</td>\n",
       "      <td>Iris-setosa</td>\n",
       "    </tr>\n",
       "    <tr>\n",
       "      <th>2</th>\n",
       "      <td>4.7</td>\n",
       "      <td>3.2</td>\n",
       "      <td>1.3</td>\n",
       "      <td>0.2</td>\n",
       "      <td>Iris-setosa</td>\n",
       "    </tr>\n",
       "    <tr>\n",
       "      <th>3</th>\n",
       "      <td>4.6</td>\n",
       "      <td>3.1</td>\n",
       "      <td>1.5</td>\n",
       "      <td>0.2</td>\n",
       "      <td>Iris-setosa</td>\n",
       "    </tr>\n",
       "    <tr>\n",
       "      <th>4</th>\n",
       "      <td>5.0</td>\n",
       "      <td>3.6</td>\n",
       "      <td>1.4</td>\n",
       "      <td>0.2</td>\n",
       "      <td>Iris-setosa</td>\n",
       "    </tr>\n",
       "  </tbody>\n",
       "</table>\n",
       "</div>"
      ],
      "text/plain": [
       "   sepal_length  sepal_width  petal_length  petal_width        class\n",
       "0           5.1          3.5           1.4          0.2  Iris-setosa\n",
       "1           4.9          3.0           1.4          0.2  Iris-setosa\n",
       "2           4.7          3.2           1.3          0.2  Iris-setosa\n",
       "3           4.6          3.1           1.5          0.2  Iris-setosa\n",
       "4           5.0          3.6           1.4          0.2  Iris-setosa"
      ]
     },
     "execution_count": 125,
     "metadata": {},
     "output_type": "execute_result"
    }
   ],
   "source": [
    "df.head()"
   ]
  },
  {
   "cell_type": "code",
   "execution_count": 126,
   "metadata": {},
   "outputs": [],
   "source": [
    "classesss = df['class'].unique()"
   ]
  },
  {
   "cell_type": "code",
   "execution_count": 127,
   "metadata": {},
   "outputs": [
    {
     "name": "stdout",
     "output_type": "stream",
     "text": [
      "<class 'pandas.core.frame.DataFrame'>\n",
      "RangeIndex: 150 entries, 0 to 149\n",
      "Data columns (total 5 columns):\n",
      " #   Column        Non-Null Count  Dtype  \n",
      "---  ------        --------------  -----  \n",
      " 0   sepal_length  150 non-null    float64\n",
      " 1   sepal_width   150 non-null    float64\n",
      " 2   petal_length  150 non-null    float64\n",
      " 3   petal_width   150 non-null    float64\n",
      " 4   class         150 non-null    object \n",
      "dtypes: float64(4), object(1)\n",
      "memory usage: 6.0+ KB\n"
     ]
    }
   ],
   "source": [
    "df.info()"
   ]
  },
  {
   "cell_type": "code",
   "execution_count": 128,
   "metadata": {},
   "outputs": [
    {
     "data": {
      "text/plain": [
       "0         Iris-setosa\n",
       "1         Iris-setosa\n",
       "2         Iris-setosa\n",
       "3         Iris-setosa\n",
       "4         Iris-setosa\n",
       "            ...      \n",
       "145    Iris-virginica\n",
       "146    Iris-virginica\n",
       "147    Iris-virginica\n",
       "148    Iris-virginica\n",
       "149    Iris-virginica\n",
       "Name: class, Length: 150, dtype: object"
      ]
     },
     "execution_count": 128,
     "metadata": {},
     "output_type": "execute_result"
    }
   ],
   "source": [
    "df['class']"
   ]
  },
  {
   "cell_type": "code",
   "execution_count": 129,
   "metadata": {},
   "outputs": [],
   "source": [
    "# Normalising\n",
    "for col in df.columns[:-1]:\n",
    "    df[col] =df[col] / df[col].max()"
   ]
  },
  {
   "cell_type": "code",
   "execution_count": 130,
   "metadata": {},
   "outputs": [
    {
     "data": {
      "text/html": [
       "<div>\n",
       "<style scoped>\n",
       "    .dataframe tbody tr th:only-of-type {\n",
       "        vertical-align: middle;\n",
       "    }\n",
       "\n",
       "    .dataframe tbody tr th {\n",
       "        vertical-align: top;\n",
       "    }\n",
       "\n",
       "    .dataframe thead th {\n",
       "        text-align: right;\n",
       "    }\n",
       "</style>\n",
       "<table border=\"1\" class=\"dataframe\">\n",
       "  <thead>\n",
       "    <tr style=\"text-align: right;\">\n",
       "      <th></th>\n",
       "      <th>sepal_length</th>\n",
       "      <th>sepal_width</th>\n",
       "      <th>petal_length</th>\n",
       "      <th>petal_width</th>\n",
       "      <th>class</th>\n",
       "    </tr>\n",
       "  </thead>\n",
       "  <tbody>\n",
       "    <tr>\n",
       "      <th>0</th>\n",
       "      <td>0.645570</td>\n",
       "      <td>0.795455</td>\n",
       "      <td>0.202899</td>\n",
       "      <td>0.08</td>\n",
       "      <td>Iris-setosa</td>\n",
       "    </tr>\n",
       "    <tr>\n",
       "      <th>1</th>\n",
       "      <td>0.620253</td>\n",
       "      <td>0.681818</td>\n",
       "      <td>0.202899</td>\n",
       "      <td>0.08</td>\n",
       "      <td>Iris-setosa</td>\n",
       "    </tr>\n",
       "    <tr>\n",
       "      <th>2</th>\n",
       "      <td>0.594937</td>\n",
       "      <td>0.727273</td>\n",
       "      <td>0.188406</td>\n",
       "      <td>0.08</td>\n",
       "      <td>Iris-setosa</td>\n",
       "    </tr>\n",
       "    <tr>\n",
       "      <th>3</th>\n",
       "      <td>0.582278</td>\n",
       "      <td>0.704545</td>\n",
       "      <td>0.217391</td>\n",
       "      <td>0.08</td>\n",
       "      <td>Iris-setosa</td>\n",
       "    </tr>\n",
       "    <tr>\n",
       "      <th>4</th>\n",
       "      <td>0.632911</td>\n",
       "      <td>0.818182</td>\n",
       "      <td>0.202899</td>\n",
       "      <td>0.08</td>\n",
       "      <td>Iris-setosa</td>\n",
       "    </tr>\n",
       "  </tbody>\n",
       "</table>\n",
       "</div>"
      ],
      "text/plain": [
       "   sepal_length  sepal_width  petal_length  petal_width        class\n",
       "0      0.645570     0.795455      0.202899         0.08  Iris-setosa\n",
       "1      0.620253     0.681818      0.202899         0.08  Iris-setosa\n",
       "2      0.594937     0.727273      0.188406         0.08  Iris-setosa\n",
       "3      0.582278     0.704545      0.217391         0.08  Iris-setosa\n",
       "4      0.632911     0.818182      0.202899         0.08  Iris-setosa"
      ]
     },
     "execution_count": 130,
     "metadata": {},
     "output_type": "execute_result"
    }
   ],
   "source": [
    "df.head()"
   ]
  },
  {
   "cell_type": "code",
   "execution_count": 131,
   "metadata": {},
   "outputs": [],
   "source": [
    "le = preprocessing.LabelEncoder()\n",
    "df['class'] = le.fit_transform(df['class'])"
   ]
  },
  {
   "cell_type": "code",
   "execution_count": 132,
   "metadata": {},
   "outputs": [
    {
     "data": {
      "text/plain": [
       "2    50\n",
       "1    50\n",
       "0    50\n",
       "Name: class, dtype: int64"
      ]
     },
     "execution_count": 132,
     "metadata": {},
     "output_type": "execute_result"
    }
   ],
   "source": [
    "df['class'].value_counts()"
   ]
  },
  {
   "cell_type": "code",
   "execution_count": 133,
   "metadata": {},
   "outputs": [
    {
     "data": {
      "text/html": [
       "<style  type=\"text/css\" >\n",
       "    #T_ffbd11ee_b576_11ec_b045_84fdd1704ff3row0_col0 {\n",
       "            background-color:  #b40426;\n",
       "            color:  #f1f1f1;\n",
       "        }    #T_ffbd11ee_b576_11ec_b045_84fdd1704ff3row0_col1 {\n",
       "            background-color:  #82a6fb;\n",
       "            color:  #000000;\n",
       "        }    #T_ffbd11ee_b576_11ec_b045_84fdd1704ff3row0_col2 {\n",
       "            background-color:  #d44e41;\n",
       "            color:  #000000;\n",
       "        }    #T_ffbd11ee_b576_11ec_b045_84fdd1704ff3row0_col3 {\n",
       "            background-color:  #e0654f;\n",
       "            color:  #000000;\n",
       "        }    #T_ffbd11ee_b576_11ec_b045_84fdd1704ff3row0_col4 {\n",
       "            background-color:  #e46e56;\n",
       "            color:  #000000;\n",
       "        }    #T_ffbd11ee_b576_11ec_b045_84fdd1704ff3row1_col0 {\n",
       "            background-color:  #3b4cc0;\n",
       "            color:  #f1f1f1;\n",
       "        }    #T_ffbd11ee_b576_11ec_b045_84fdd1704ff3row1_col1 {\n",
       "            background-color:  #b40426;\n",
       "            color:  #f1f1f1;\n",
       "        }    #T_ffbd11ee_b576_11ec_b045_84fdd1704ff3row1_col2 {\n",
       "            background-color:  #3b4cc0;\n",
       "            color:  #f1f1f1;\n",
       "        }    #T_ffbd11ee_b576_11ec_b045_84fdd1704ff3row1_col3 {\n",
       "            background-color:  #3b4cc0;\n",
       "            color:  #f1f1f1;\n",
       "        }    #T_ffbd11ee_b576_11ec_b045_84fdd1704ff3row1_col4 {\n",
       "            background-color:  #3b4cc0;\n",
       "            color:  #f1f1f1;\n",
       "        }    #T_ffbd11ee_b576_11ec_b045_84fdd1704ff3row2_col0 {\n",
       "            background-color:  #da5a49;\n",
       "            color:  #000000;\n",
       "        }    #T_ffbd11ee_b576_11ec_b045_84fdd1704ff3row2_col1 {\n",
       "            background-color:  #3b4cc0;\n",
       "            color:  #f1f1f1;\n",
       "        }    #T_ffbd11ee_b576_11ec_b045_84fdd1704ff3row2_col2 {\n",
       "            background-color:  #b40426;\n",
       "            color:  #f1f1f1;\n",
       "        }    #T_ffbd11ee_b576_11ec_b045_84fdd1704ff3row2_col3 {\n",
       "            background-color:  #be242e;\n",
       "            color:  #f1f1f1;\n",
       "        }    #T_ffbd11ee_b576_11ec_b045_84fdd1704ff3row2_col4 {\n",
       "            background-color:  #c12b30;\n",
       "            color:  #f1f1f1;\n",
       "        }    #T_ffbd11ee_b576_11ec_b045_84fdd1704ff3row3_col0 {\n",
       "            background-color:  #e7745b;\n",
       "            color:  #000000;\n",
       "        }    #T_ffbd11ee_b576_11ec_b045_84fdd1704ff3row3_col1 {\n",
       "            background-color:  #485fd1;\n",
       "            color:  #f1f1f1;\n",
       "        }    #T_ffbd11ee_b576_11ec_b045_84fdd1704ff3row3_col2 {\n",
       "            background-color:  #bd1f2d;\n",
       "            color:  #f1f1f1;\n",
       "        }    #T_ffbd11ee_b576_11ec_b045_84fdd1704ff3row3_col3 {\n",
       "            background-color:  #b40426;\n",
       "            color:  #f1f1f1;\n",
       "        }    #T_ffbd11ee_b576_11ec_b045_84fdd1704ff3row3_col4 {\n",
       "            background-color:  #be242e;\n",
       "            color:  #f1f1f1;\n",
       "        }    #T_ffbd11ee_b576_11ec_b045_84fdd1704ff3row4_col0 {\n",
       "            background-color:  #ed8366;\n",
       "            color:  #000000;\n",
       "        }    #T_ffbd11ee_b576_11ec_b045_84fdd1704ff3row4_col1 {\n",
       "            background-color:  #3b4cc0;\n",
       "            color:  #f1f1f1;\n",
       "        }    #T_ffbd11ee_b576_11ec_b045_84fdd1704ff3row4_col2 {\n",
       "            background-color:  #c12b30;\n",
       "            color:  #f1f1f1;\n",
       "        }    #T_ffbd11ee_b576_11ec_b045_84fdd1704ff3row4_col3 {\n",
       "            background-color:  #c0282f;\n",
       "            color:  #f1f1f1;\n",
       "        }    #T_ffbd11ee_b576_11ec_b045_84fdd1704ff3row4_col4 {\n",
       "            background-color:  #b40426;\n",
       "            color:  #f1f1f1;\n",
       "        }</style><table id=\"T_ffbd11ee_b576_11ec_b045_84fdd1704ff3\" ><thead>    <tr>        <th class=\"blank level0\" ></th>        <th class=\"col_heading level0 col0\" >sepal_length</th>        <th class=\"col_heading level0 col1\" >sepal_width</th>        <th class=\"col_heading level0 col2\" >petal_length</th>        <th class=\"col_heading level0 col3\" >petal_width</th>        <th class=\"col_heading level0 col4\" >class</th>    </tr></thead><tbody>\n",
       "                <tr>\n",
       "                        <th id=\"T_ffbd11ee_b576_11ec_b045_84fdd1704ff3level0_row0\" class=\"row_heading level0 row0\" >sepal_length</th>\n",
       "                        <td id=\"T_ffbd11ee_b576_11ec_b045_84fdd1704ff3row0_col0\" class=\"data row0 col0\" >1.000000</td>\n",
       "                        <td id=\"T_ffbd11ee_b576_11ec_b045_84fdd1704ff3row0_col1\" class=\"data row0 col1\" >-0.109369</td>\n",
       "                        <td id=\"T_ffbd11ee_b576_11ec_b045_84fdd1704ff3row0_col2\" class=\"data row0 col2\" >0.871754</td>\n",
       "                        <td id=\"T_ffbd11ee_b576_11ec_b045_84fdd1704ff3row0_col3\" class=\"data row0 col3\" >0.817954</td>\n",
       "                        <td id=\"T_ffbd11ee_b576_11ec_b045_84fdd1704ff3row0_col4\" class=\"data row0 col4\" >0.782561</td>\n",
       "            </tr>\n",
       "            <tr>\n",
       "                        <th id=\"T_ffbd11ee_b576_11ec_b045_84fdd1704ff3level0_row1\" class=\"row_heading level0 row1\" >sepal_width</th>\n",
       "                        <td id=\"T_ffbd11ee_b576_11ec_b045_84fdd1704ff3row1_col0\" class=\"data row1 col0\" >-0.109369</td>\n",
       "                        <td id=\"T_ffbd11ee_b576_11ec_b045_84fdd1704ff3row1_col1\" class=\"data row1 col1\" >1.000000</td>\n",
       "                        <td id=\"T_ffbd11ee_b576_11ec_b045_84fdd1704ff3row1_col2\" class=\"data row1 col2\" >-0.420516</td>\n",
       "                        <td id=\"T_ffbd11ee_b576_11ec_b045_84fdd1704ff3row1_col3\" class=\"data row1 col3\" >-0.356544</td>\n",
       "                        <td id=\"T_ffbd11ee_b576_11ec_b045_84fdd1704ff3row1_col4\" class=\"data row1 col4\" >-0.419446</td>\n",
       "            </tr>\n",
       "            <tr>\n",
       "                        <th id=\"T_ffbd11ee_b576_11ec_b045_84fdd1704ff3level0_row2\" class=\"row_heading level0 row2\" >petal_length</th>\n",
       "                        <td id=\"T_ffbd11ee_b576_11ec_b045_84fdd1704ff3row2_col0\" class=\"data row2 col0\" >0.871754</td>\n",
       "                        <td id=\"T_ffbd11ee_b576_11ec_b045_84fdd1704ff3row2_col1\" class=\"data row2 col1\" >-0.420516</td>\n",
       "                        <td id=\"T_ffbd11ee_b576_11ec_b045_84fdd1704ff3row2_col2\" class=\"data row2 col2\" >1.000000</td>\n",
       "                        <td id=\"T_ffbd11ee_b576_11ec_b045_84fdd1704ff3row2_col3\" class=\"data row2 col3\" >0.962757</td>\n",
       "                        <td id=\"T_ffbd11ee_b576_11ec_b045_84fdd1704ff3row2_col4\" class=\"data row2 col4\" >0.949043</td>\n",
       "            </tr>\n",
       "            <tr>\n",
       "                        <th id=\"T_ffbd11ee_b576_11ec_b045_84fdd1704ff3level0_row3\" class=\"row_heading level0 row3\" >petal_width</th>\n",
       "                        <td id=\"T_ffbd11ee_b576_11ec_b045_84fdd1704ff3row3_col0\" class=\"data row3 col0\" >0.817954</td>\n",
       "                        <td id=\"T_ffbd11ee_b576_11ec_b045_84fdd1704ff3row3_col1\" class=\"data row3 col1\" >-0.356544</td>\n",
       "                        <td id=\"T_ffbd11ee_b576_11ec_b045_84fdd1704ff3row3_col2\" class=\"data row3 col2\" >0.962757</td>\n",
       "                        <td id=\"T_ffbd11ee_b576_11ec_b045_84fdd1704ff3row3_col3\" class=\"data row3 col3\" >1.000000</td>\n",
       "                        <td id=\"T_ffbd11ee_b576_11ec_b045_84fdd1704ff3row3_col4\" class=\"data row3 col4\" >0.956464</td>\n",
       "            </tr>\n",
       "            <tr>\n",
       "                        <th id=\"T_ffbd11ee_b576_11ec_b045_84fdd1704ff3level0_row4\" class=\"row_heading level0 row4\" >class</th>\n",
       "                        <td id=\"T_ffbd11ee_b576_11ec_b045_84fdd1704ff3row4_col0\" class=\"data row4 col0\" >0.782561</td>\n",
       "                        <td id=\"T_ffbd11ee_b576_11ec_b045_84fdd1704ff3row4_col1\" class=\"data row4 col1\" >-0.419446</td>\n",
       "                        <td id=\"T_ffbd11ee_b576_11ec_b045_84fdd1704ff3row4_col2\" class=\"data row4 col2\" >0.949043</td>\n",
       "                        <td id=\"T_ffbd11ee_b576_11ec_b045_84fdd1704ff3row4_col3\" class=\"data row4 col3\" >0.956464</td>\n",
       "                        <td id=\"T_ffbd11ee_b576_11ec_b045_84fdd1704ff3row4_col4\" class=\"data row4 col4\" >1.000000</td>\n",
       "            </tr>\n",
       "    </tbody></table>"
      ],
      "text/plain": [
       "<pandas.io.formats.style.Styler at 0x1a39e49be10>"
      ]
     },
     "execution_count": 133,
     "metadata": {},
     "output_type": "execute_result"
    }
   ],
   "source": [
    "corr = df.corr()\n",
    "corr.style.background_gradient(cmap='coolwarm')"
   ]
  },
  {
   "cell_type": "code",
   "execution_count": 134,
   "metadata": {},
   "outputs": [],
   "source": [
    "x = df.drop(columns=['class'])\n",
    "y = df['class']"
   ]
  },
  {
   "cell_type": "code",
   "execution_count": 135,
   "metadata": {},
   "outputs": [
    {
     "data": {
      "text/plain": [
       "((120, 4), (120,), (30, 4), (30,))"
      ]
     },
     "execution_count": 135,
     "metadata": {},
     "output_type": "execute_result"
    }
   ],
   "source": [
    "x_train, x_test, y_train, y_test = train_test_split(x, y, test_size = 0.2)\n",
    "x_train.shape, y_train.shape, x_test.shape, y_test.shape"
   ]
  },
  {
   "cell_type": "code",
   "execution_count": 136,
   "metadata": {},
   "outputs": [],
   "source": [
    "algos = []\n",
    "accuracy = []\n",
    "recall = []\n",
    "precision = []\n",
    "f1Score = []\n",
    "specificity = []"
   ]
  },
  {
   "cell_type": "code",
   "execution_count": 137,
   "metadata": {},
   "outputs": [
    {
     "name": "stdout",
     "output_type": "stream",
     "text": [
      "SVM\n",
      "[[11  0  0]\n",
      " [ 0 11  0]\n",
      " [ 0  1  7]] \n",
      "\n",
      "\n",
      "Accuracy: 96.66666666666667\n",
      "Recall: 96.66666666666667\n",
      "Precision: 96.94444444444444\n",
      "F score: 96.6280193236715\n",
      "                 precision    recall  f1-score   support\n",
      "\n",
      "    Iris-setosa       1.00      1.00      1.00        11\n",
      "Iris-versicolor       0.92      1.00      0.96        11\n",
      " Iris-virginica       1.00      0.88      0.93         8\n",
      "\n",
      "       accuracy                           0.97        30\n",
      "      macro avg       0.97      0.96      0.96        30\n",
      "   weighted avg       0.97      0.97      0.97        30\n",
      "\n"
     ]
    }
   ],
   "source": [
    "algo = \"SVM\"\n",
    "model = SVC(kernel='poly', degree=3, C=1).fit(x_train, y_train)\n",
    "model.fit(x_train, y_train)\n",
    "y_pred = model.predict(x_test)\n",
    "print(algo)\n",
    "print(confusion_matrix(y_test, y_pred), '\\n\\n')\n",
    "acc = accuracy_score(y_test, y_pred) * 100\n",
    "print('Accuracy:', acc)\n",
    "rec = recall_score(y_test, y_pred, average='weighted') * 100\n",
    "print('Recall:', rec)\n",
    "pre = precision_score(y_test, y_pred, average='weighted') * 100\n",
    "print('Precision:', pre)\n",
    "f1s = f1_score(y_test, y_pred, average='weighted') * 100\n",
    "print('F score:', f1s)\n",
    "\n",
    "print(classification_report(y_test, y_pred, target_names=classesss))\n",
    "\n",
    "algos.append(algo)\n",
    "accuracy.append(acc)\n",
    "recall.append(rec)\n",
    "precision.append(pre)\n",
    "f1Score.append(f1s)\n"
   ]
  },
  {
   "cell_type": "code",
   "execution_count": 138,
   "metadata": {},
   "outputs": [
    {
     "name": "stdout",
     "output_type": "stream",
     "text": [
      "Adaboost\n",
      "[[11  0  0]\n",
      " [ 0 11  0]\n",
      " [ 0  1  7]] \n",
      "\n",
      "\n",
      "Accuracy: 96.66666666666667\n",
      "Recall: 96.66666666666667\n",
      "Precision: 96.94444444444444\n",
      "F score: 96.6280193236715\n",
      "                 precision    recall  f1-score   support\n",
      "\n",
      "    Iris-setosa       1.00      1.00      1.00        11\n",
      "Iris-versicolor       0.92      1.00      0.96        11\n",
      " Iris-virginica       1.00      0.88      0.93         8\n",
      "\n",
      "       accuracy                           0.97        30\n",
      "      macro avg       0.97      0.96      0.96        30\n",
      "   weighted avg       0.97      0.97      0.97        30\n",
      "\n"
     ]
    }
   ],
   "source": [
    "algo = \"Adaboost\"\n",
    "model = AdaBoostClassifier().fit(x_train, y_train)\n",
    "model.fit(x_train, y_train)\n",
    "y_pred = model.predict(x_test)\n",
    "print(algo)\n",
    "print(confusion_matrix(y_test, y_pred), '\\n\\n')\n",
    "acc = accuracy_score(y_test, y_pred) * 100\n",
    "print('Accuracy:', acc)\n",
    "rec = recall_score(y_test, y_pred, average='weighted') * 100\n",
    "print('Recall:', rec)\n",
    "pre = precision_score(y_test, y_pred, average='weighted') * 100\n",
    "print('Precision:', pre)\n",
    "f1s = f1_score(y_test, y_pred, average='weighted') * 100\n",
    "print('F score:', f1s)\n",
    "\n",
    "print(classification_report(y_test, y_pred, target_names=classesss))\n",
    "\n",
    "algos.append(algo)\n",
    "accuracy.append(acc)\n",
    "recall.append(rec)\n",
    "precision.append(pre)\n",
    "f1Score.append(f1s)\n"
   ]
  },
  {
   "cell_type": "code",
   "execution_count": 139,
   "metadata": {},
   "outputs": [
    {
     "name": "stdout",
     "output_type": "stream",
     "text": [
      "Naive Bayes\n",
      "[[11  0  0]\n",
      " [ 0 11  0]\n",
      " [ 0  1  7]] \n",
      "\n",
      "\n",
      "Accuracy: 96.66666666666667\n",
      "Recall: 96.66666666666667\n",
      "Precision: 96.94444444444444\n",
      "F score: 96.6280193236715\n",
      "                 precision    recall  f1-score   support\n",
      "\n",
      "    Iris-setosa       1.00      1.00      1.00        11\n",
      "Iris-versicolor       0.92      1.00      0.96        11\n",
      " Iris-virginica       1.00      0.88      0.93         8\n",
      "\n",
      "       accuracy                           0.97        30\n",
      "      macro avg       0.97      0.96      0.96        30\n",
      "   weighted avg       0.97      0.97      0.97        30\n",
      "\n"
     ]
    }
   ],
   "source": [
    "algo = \"Naive Bayes\"\n",
    "model = GaussianNB().fit(x_train, y_train)\n",
    "model.fit(x_train, y_train)\n",
    "y_pred = model.predict(x_test)\n",
    "print(algo)\n",
    "print(confusion_matrix(y_test, y_pred), '\\n\\n')\n",
    "acc = accuracy_score(y_test, y_pred) * 100\n",
    "print('Accuracy:', acc)\n",
    "rec = recall_score(y_test, y_pred, average='weighted') * 100\n",
    "print('Recall:', rec)\n",
    "pre = precision_score(y_test, y_pred, average='weighted') * 100\n",
    "print('Precision:', pre)\n",
    "f1s = f1_score(y_test, y_pred, average='weighted') * 100\n",
    "print('F score:', f1s)\n",
    "\n",
    "print(classification_report(y_test, y_pred, target_names=classesss))\n",
    "\n",
    "algos.append(algo)\n",
    "accuracy.append(acc)\n",
    "recall.append(rec)\n",
    "precision.append(pre)\n",
    "f1Score.append(f1s)\n"
   ]
  },
  {
   "cell_type": "code",
   "execution_count": 140,
   "metadata": {},
   "outputs": [
    {
     "name": "stdout",
     "output_type": "stream",
     "text": [
      "K Nearest Neighbour\n",
      "[[11  0  0]\n",
      " [ 0 11  0]\n",
      " [ 0  1  7]] \n",
      "\n",
      "\n",
      "Accuracy: 96.66666666666667\n",
      "Recall: 96.66666666666667\n",
      "Precision: 96.94444444444444\n",
      "F score: 96.6280193236715\n",
      "                 precision    recall  f1-score   support\n",
      "\n",
      "    Iris-setosa       1.00      1.00      1.00        11\n",
      "Iris-versicolor       0.92      1.00      0.96        11\n",
      " Iris-virginica       1.00      0.88      0.93         8\n",
      "\n",
      "       accuracy                           0.97        30\n",
      "      macro avg       0.97      0.96      0.96        30\n",
      "   weighted avg       0.97      0.97      0.97        30\n",
      "\n"
     ]
    }
   ],
   "source": [
    "algo = \"K Nearest Neighbour\"\n",
    "model = KNeighborsClassifier().fit(x_train, y_train)\n",
    "model.fit(x_train, y_train)\n",
    "y_pred = model.predict(x_test)\n",
    "print(algo)\n",
    "print(confusion_matrix(y_test, y_pred), '\\n\\n')\n",
    "acc = accuracy_score(y_test, y_pred) * 100\n",
    "print('Accuracy:', acc)\n",
    "rec = recall_score(y_test, y_pred, average='weighted') * 100\n",
    "print('Recall:', rec)\n",
    "pre = precision_score(y_test, y_pred, average='weighted') * 100\n",
    "print('Precision:', pre)\n",
    "f1s = f1_score(y_test, y_pred, average='weighted') * 100\n",
    "print('F score:', f1s)\n",
    "\n",
    "print(classification_report(y_test, y_pred, target_names=classesss))\n",
    "\n",
    "algos.append(algo)\n",
    "accuracy.append(acc)\n",
    "recall.append(rec)\n",
    "precision.append(pre)\n",
    "f1Score.append(f1s)\n"
   ]
  },
  {
   "cell_type": "code",
   "execution_count": null,
   "metadata": {},
   "outputs": [],
   "source": []
  },
  {
   "cell_type": "markdown",
   "metadata": {},
   "source": [
    "# Answer 2"
   ]
  },
  {
   "cell_type": "code",
   "execution_count": 141,
   "metadata": {},
   "outputs": [
    {
     "name": "stdout",
     "output_type": "stream",
     "text": [
      "SVM :      96.66666666666667 ,   96.66666666666667 ,   96.94444444444444 ,   96.6280193236715\n",
      "Adaboost :      96.66666666666667 ,   96.66666666666667 ,   96.94444444444444 ,   96.6280193236715\n",
      "Naive Bayes :      96.66666666666667 ,   96.66666666666667 ,   96.94444444444444 ,   96.6280193236715\n",
      "K Nearest Neighbour :      96.66666666666667 ,   96.66666666666667 ,   96.94444444444444 ,   96.6280193236715\n"
     ]
    }
   ],
   "source": [
    "mx = 0\n",
    "for i in range(len(algos)):\n",
    "    print(algos[i], ':     ', accuracy[i],',  ', recall[i],',  ', precision[i],',  ', f1Score[i])\n",
    "    if accuracy[i] > accuracy[mx]:\n",
    "        mx = i"
   ]
  },
  {
   "cell_type": "code",
   "execution_count": 142,
   "metadata": {},
   "outputs": [
    {
     "name": "stdout",
     "output_type": "stream",
     "text": [
      "Maximum Accuracy :  96.66666666666667 of K Nearest Neighbour algorithm.\n"
     ]
    }
   ],
   "source": [
    "print('Maximum Accuracy : ', accuracy[i], 'of', algos[i], 'algorithm.')"
   ]
  },
  {
   "cell_type": "code",
   "execution_count": 143,
   "metadata": {},
   "outputs": [
    {
     "data": {
      "image/png": "[encoded data removed]",
      "text/plain": [
       "<Figure size 432x288 with 1 Axes>"
      ]
     },
     "metadata": {},
     "output_type": "display_data"
    }
   ],
   "source": [
    "plt.bar(algos, accuracy)\n",
    "plt.xticks(rotation = 45) \n",
    "plt.show()"
   ]
  },
  {
   "cell_type": "markdown",
   "metadata": {},
   "source": [
    "# Answer 4"
   ]
  },
  {
   "cell_type": "code",
   "execution_count": 148,
   "metadata": {},
   "outputs": [
    {
     "name": "stdout",
     "output_type": "stream",
     "text": [
      "4\n",
      "Factorial: 24\n"
     ]
    }
   ],
   "source": [
    "n = int(input())\n",
    "f = 1\n",
    "for i in range(2, n+1):\n",
    "    f *= i\n",
    "    \n",
    "print('Factorial:', f)"
   ]
  },
  {
   "cell_type": "code",
   "execution_count": null,
   "metadata": {},
   "outputs": [],
   "source": []
  },
  {
   "cell_type": "code",
   "execution_count": null,
   "metadata": {},
   "outputs": [],
   "source": []
  },
  {
   "cell_type": "code",
   "execution_count": null,
   "metadata": {},
   "outputs": [],
   "source": []
  },
  {
   "cell_type": "markdown",
   "metadata": {},
   "source": [
    "# Thank you"
   ]
  },
  {
   "cell_type": "code",
   "execution_count": null,
   "metadata": {},
   "outputs": [],
   "source": []
  }
 ],
 "metadata": {
  "kernelspec": {
   "display_name": "Python 3",
   "language": "python",
   "name": "python3"
  },
  "language_info": {
   "codemirror_mode": {
    "name": "ipython",
    "version": 3
   },
   "file_extension": ".py",
   "mimetype": "text/x-python",
   "name": "python",
   "nbconvert_exporter": "python",
   "pygments_lexer": "ipython3",
   "version": "3.6.5"
  }
 },
 "nbformat": 4,
 "nbformat_minor": 2
}
